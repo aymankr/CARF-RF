{
 "cells": [
  {
   "cell_type": "code",
   "execution_count": 48,
   "metadata": {},
   "outputs": [
    {
     "name": "stdout",
     "output_type": "stream",
     "text": [
      "[[0, 'X1', 10.0, 0.1493827160493828], [1, 'X2', 0.8, 0.375], [1, 'X1', 12.0, 0.11999999999999983], [2, 'X1', 13.0, 0.5]]\n"
     ]
    }
   ],
   "source": [
    "import pandas as pd\n",
    "import graphviz\n",
    "\n",
    "\n",
    "class Gini():\n",
    "    def __init__(self, file) -> None:\n",
    "        self.df = pd.read_csv(file)\n",
    "        self.df = pd.DataFrame(self.df)\n",
    "        self.tree = []\n",
    "        self.main()\n",
    "\n",
    "    def main(self):\n",
    "        self.recursion(self.df)\n",
    "        self.print_tree()\n",
    "        print(self.tree)\n",
    "\n",
    "    def recursion(self, df, level=0):\n",
    "        result = self.division(df)\n",
    "        self.tree.append([level, result['variable'],\n",
    "                         result['seuil'], result['gini']])\n",
    "        df_gauche = df[df[result['variable']] <= result['seuil']]\n",
    "        df_droite = df[df[result['variable']] > result['seuil']]\n",
    "        if 'A' in df_gauche.Y.tolist() and 'B' in df_gauche.Y.tolist():\n",
    "            self.recursion(df_gauche, level + 1)\n",
    "        if 'A' in df_droite.Y.tolist() and 'B' in df_droite.Y.tolist():\n",
    "            self.recursion(df_droite, level + 1)\n",
    "\n",
    "    def division(self, df):\n",
    "        # stocker les valeurs des indices de Gini, leurs seuils et variables correspondantes\n",
    "        tab_gini = pd.DataFrame(columns=['variable', 'seuil', 'gini'])\n",
    "\n",
    "        # calcul de Dk\n",
    "        p1 = df['Y'].value_counts().A  # nombre de modalités A dans ce noeud\n",
    "        p2 = df['Y'].value_counts().B\n",
    "        n = p1 + p2  # nombre d'individus\n",
    "        Dk = 1 - ((p1/n)**2 + (p2/n)**2)  # indice de Gini avant séparation\n",
    "\n",
    "        # parcourir chaque variable X1, X2...\n",
    "        i = 0\n",
    "        for x in df.columns[1:]:\n",
    "            # parcourir chaque valeur de cette variable comme seuil\n",
    "            for seuil in df[x]:\n",
    "                # liste des modalités du noeud de gauche respectant le seuil\n",
    "                noeud_gauche = df[df[x] <= seuil].Y\n",
    "                noeud_droite = df[df[x] > seuil].Y\n",
    "\n",
    "                # calculer l'indice de gini seulement lorsque le noeud n'est pas totalement pur (contient des modalités différentes)\n",
    "                Dkg, Dkd = 0, 0\n",
    "                if 'A' in noeud_gauche.tolist() and 'B' in noeud_gauche.tolist():\n",
    "                    p1g = noeud_gauche.value_counts().A\n",
    "                    p2g = noeud_gauche.value_counts().B\n",
    "                    ng = p1g + p2g\n",
    "                    Dkg = (1 - ((p1g/ng)**2 + (p2g/ng)**2)) * \\\n",
    "                        (ng/n)  # indice de Gini de ce noeud\n",
    "\n",
    "                if 'A' in noeud_droite.tolist() and 'B' in noeud_droite.tolist():\n",
    "                    p1d = noeud_droite.value_counts().A\n",
    "                    p2d = noeud_droite.value_counts().B\n",
    "                    nd = p1d + p2d\n",
    "                    Dkd = (1 - ((p1d/nd)**2 + (p2d/nd)**2)) * (nd/n)\n",
    "\n",
    "                gini = Dk - (Dkg + Dkd)  # indice de Gini global\n",
    "                tab_gini.loc[i] = [x, seuil, gini]  # ajout des informations\n",
    "                i += 1\n",
    "\n",
    "        tab_gini.sort_values(by=\"gini\", ascending=False, inplace=True)\n",
    "        tab_gini.reset_index(drop=True, inplace=True)\n",
    "        return tab_gini.iloc[0]\n",
    "\n",
    "    def print_tree(self):\n",
    "        dot = graphviz.Digraph(comment='Arbre de décision', graph_attr={'size': '10,10!'})\n",
    "        for noeud in self.tree:\n",
    "            level, variable, seuil, gini = noeud\n",
    "            dot.node(f\"{variable} {seuil} ({gini:.2f})\",\n",
    "                     label=f\"({gini:.2f})\", shape=\"oval\")\n",
    "            if level > 0:\n",
    "                parent = self.tree[level - 1]\n",
    "                parent_variable, parent_seuil, _ = parent[1:]\n",
    "                signe = f\">{parent_variable} {parent_seuil}\" if parent_variable == variable else f\"<={parent_variable} {parent_seuil}\"\n",
    "                dot.edge(\n",
    "                    f\"{parent_variable} {parent_seuil} ({parent[3]:.2f})\", f\"{variable} {seuil} ({gini:.2f})\", label=signe)\n",
    "        dot.render(\"arbre_decision\", view=True, format=\"png\")\n",
    "\n",
    "\n",
    "if __name__ == \"__main__\":\n",
    "    Gini('data.csv')\n"
   ]
  }
 ],
 "metadata": {
  "kernelspec": {
   "display_name": "Python 3",
   "language": "python",
   "name": "python3"
  },
  "language_info": {
   "codemirror_mode": {
    "name": "ipython",
    "version": 3
   },
   "file_extension": ".py",
   "mimetype": "text/x-python",
   "name": "python",
   "nbconvert_exporter": "python",
   "pygments_lexer": "ipython3",
   "version": "3.10.10"
  },
  "orig_nbformat": 4,
  "vscode": {
   "interpreter": {
    "hash": "4616066d6de94223d6dfbea6dbfec1a81056d26ff9efd96f39680a77ec970445"
   }
  }
 },
 "nbformat": 4,
 "nbformat_minor": 2
}
