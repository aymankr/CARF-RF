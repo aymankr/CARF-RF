{
 "cells": [
  {
   "cell_type": "code",
   "execution_count": 144,
   "metadata": {},
   "outputs": [
    {
     "name": "stdout",
     "output_type": "stream",
     "text": [
      "   variable  seuil      gini\n",
      "0        X1   10.0  0.149383\n",
      "1        X2    0.9  0.060494\n",
      "2        X1    9.0  0.049383\n",
      "3        X1   11.0  0.012346\n",
      "4        X2    0.8  0.012346\n",
      "5        X1   11.0  0.012346\n",
      "6        X2    0.8  0.012346\n",
      "7        X2    1.0  0.004938\n",
      "8        X2    1.1  0.001764\n",
      "9        X1   12.0  0.001764\n",
      "10       X1    7.0  0.001764\n",
      "11       X1    7.0  0.001764\n",
      "12       X2    1.1  0.001764\n",
      "13       X1   13.0 -0.061728\n",
      "14       X2    1.2 -0.111111\n",
      "15       X2    1.2 -0.111111\n",
      "16       X2    0.7 -0.117284\n",
      "17       X1   14.0 -0.380952\n"
     ]
    }
   ],
   "source": [
    "import pandas as pd\n",
    "\n",
    "class Gini():\n",
    "    def __init__(self, file) -> None:\n",
    "        self.df = pd.read_csv(file)\n",
    "        self.df = pd.DataFrame(self.df)\n",
    "        self.main()\n",
    "\n",
    "    def main(self):\n",
    "        df = self.df # dataframe\n",
    "        tab_gini = pd.DataFrame(columns=['variable', 'seuil','gini']) # stocker les valeurs des indices de Gini, leurs seuils et variables correspondantes\n",
    "        \n",
    "        # calcul de Dk\n",
    "        p1 = df['Y'].value_counts().A # nombre de modalités A dans ce noeud\n",
    "        p2 = df['Y'].value_counts().B\n",
    "        n = p1 + p2 # nombre d'individus\n",
    "        Dk = 1 - ((p1/n)**2 + (p2/n)**2) # indice de Gini avant séparation\n",
    "        \n",
    "        # parcourir chaque variable X1, X2...\n",
    "        \n",
    "        i = 0\n",
    "        for x in df.columns[1:]:\n",
    "            # parcourir chaque valeur de cette variable comme seuil\n",
    "            for seuil in df[x]:\n",
    "                noeud_gauche = df[df[x] <= seuil].Y # liste des modalités du noeud de gauche respectant le seuil\n",
    "                noeud_droite = df[df[x] > seuil].Y\n",
    "                \n",
    "                # calculer l'indice de gini seulement lorsque le noeud n'est pas totalement pur (contient des modalités différentes)\n",
    "                if 'A' in noeud_gauche.tolist() and 'B' in noeud_gauche.tolist():\n",
    "                    p1g = noeud_gauche.value_counts().A \n",
    "                    p2g = noeud_gauche.value_counts().B\n",
    "                    ng = p1g + p2g \n",
    "                    Dkg = (1 - ((p1g/ng)**2 + (p2g/ng)**2)) * (ng/n) # indice de Gini de ce noeud\n",
    "                    \n",
    "                \n",
    "                if 'A' in noeud_droite.tolist() and 'B' in noeud_droite.tolist():\n",
    "                    p1d = noeud_droite.value_counts().A\n",
    "                    p2d = noeud_droite.value_counts().B\n",
    "                    nd = p1d + p2d\n",
    "                    Dkd = (1 - ((p1d/nd)**2 + (p2d/nd)**2)) * (nd/n)\n",
    "                \n",
    "                gini = Dk - (Dkg + Dkd) # indice de Gini global\n",
    "                tab_gini.loc[i] = [x, seuil, gini] # ajout des informations\n",
    "                i += 1\n",
    "        \n",
    "        tab_gini.sort_values(by=\"gini\", ascending=False, inplace = True)\n",
    "        tab_gini.reset_index(drop=True, inplace=True)\n",
    "        print(tab_gini)\n",
    "    \n",
    "    \n",
    "\n",
    "if __name__ == \"__main__\":\n",
    "    Gini('data.csv')"
   ]
  }
 ],
 "metadata": {
  "kernelspec": {
   "display_name": "Python 3",
   "language": "python",
   "name": "python3"
  },
  "language_info": {
   "codemirror_mode": {
    "name": "ipython",
    "version": 3
   },
   "file_extension": ".py",
   "mimetype": "text/x-python",
   "name": "python",
   "nbconvert_exporter": "python",
   "pygments_lexer": "ipython3",
   "version": "3.11.0"
  },
  "orig_nbformat": 4,
  "vscode": {
   "interpreter": {
    "hash": "e466a69ede527b19f5e9d463def40b0dcf9437c4aa3004bd7705275dce95b598"
   }
  }
 },
 "nbformat": 4,
 "nbformat_minor": 2
}
